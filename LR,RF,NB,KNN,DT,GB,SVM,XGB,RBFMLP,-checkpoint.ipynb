{
 "cells": [
  {
   "cell_type": "code",
   "execution_count": 2,
   "id": "ed0d82d4-4410-4a70-814b-794da90c65e6",
   "metadata": {},
   "outputs": [],
   "source": [
    "# Importing necessary libraries\n",
    "import numpy as np\n",
    "import pandas as pd\n",
    "from sklearn.model_selection import train_test_split\n",
    "from sklearn.preprocessing import StandardScaler, LabelEncoder\n",
    "from sklearn.linear_model import LogisticRegression\n",
    "from sklearn.ensemble import RandomForestClassifier, GradientBoostingClassifier\n",
    "from sklearn.svm import SVC\n",
    "from sklearn.tree import DecisionTreeClassifier\n",
    "from sklearn.neighbors import KNeighborsClassifier\n",
    "from sklearn.naive_bayes import GaussianNB\n",
    "from sklearn.neural_network import MLPClassifier\n",
    "from sklearn.kernel_approximation import RBFSampler\n",
    "from xgboost import XGBClassifier\n",
    "from sklearn.metrics import accuracy_score, precision_score, recall_score, f1_score"
   ]
  },
  {
   "cell_type": "code",
   "execution_count": 3,
   "id": "c9246c49-a580-4e80-99c4-181d3b8c1728",
   "metadata": {},
   "outputs": [],
   "source": [
    "#Loading the dataset\n",
    "data = pd.read_csv('HD 1190.csv')"
   ]
  },
  {
   "cell_type": "code",
   "execution_count": 4,
   "id": "b04c16ac-7d7b-4e4b-896d-56df5d2036f2",
   "metadata": {},
   "outputs": [],
   "source": [
    "target_column = 'target'\n",
    "X = data.drop(columns=[target_column])\n",
    "y = data[target_column]"
   ]
  },
  {
   "cell_type": "code",
   "execution_count": 5,
   "id": "d861e1ab-7942-4cd7-850c-b6067891b683",
   "metadata": {},
   "outputs": [],
   "source": [
    "# Data preprocessing\n",
    "le = LabelEncoder()\n",
    "X['sex'] = le.fit_transform(X['sex'])"
   ]
  },
  {
   "cell_type": "code",
   "execution_count": 6,
   "id": "4629a11a-2957-4333-87ce-4b7985af014e",
   "metadata": {},
   "outputs": [],
   "source": [
    "# Splitting the data into training and testing sets\n",
    "X_train, X_test, y_train, y_test = train_test_split(X, y, test_size=0.2, random_state=42)"
   ]
  },
  {
   "cell_type": "code",
   "execution_count": 7,
   "id": "571cec5f-c594-4d50-a6d4-9e0309cea552",
   "metadata": {},
   "outputs": [],
   "source": [
    "# Standardizing numerical features\n",
    "scaler = StandardScaler()\n",
    "X_train_scaled = scaler.fit_transform(X_train)\n",
    "X_test_scaled = scaler.transform(X_test)"
   ]
  },
  {
   "cell_type": "code",
   "execution_count": 8,
   "id": "9a12ad2d-778f-4625-8830-452f8c340758",
   "metadata": {},
   "outputs": [
    {
     "name": "stdout",
     "output_type": "stream",
     "text": [
      "Accuracy: 0.8613, Precision: 0.8712, Recall: 0.8779, F1 Score: 0.8745\n",
      "Accuracy: 0.9454, Precision: 0.9470, Recall: 0.9542, F1 Score: 0.9506\n",
      "Accuracy: 0.9160, Precision: 0.9173, Recall: 0.9313, F1 Score: 0.9242\n",
      "Accuracy: 0.8908, Precision: 0.8671, Recall: 0.9466, F1 Score: 0.9051\n",
      "Accuracy: 0.8866, Precision: 0.9333, Recall: 0.8550, F1 Score: 0.8924\n",
      "Accuracy: 0.8866, Precision: 0.8714, Recall: 0.9313, F1 Score: 0.9004\n",
      "Accuracy: 0.8571, Precision: 0.8647, Recall: 0.8779, F1 Score: 0.8712\n",
      "Accuracy: 0.8908, Precision: 0.8889, Recall: 0.9160, F1 Score: 0.9023\n",
      "Accuracy: 0.8908, Precision: 0.8671, Recall: 0.9466, F1 Score: 0.9051\n"
     ]
    },
    {
     "name": "stderr",
     "output_type": "stream",
     "text": [
      "C:\\Users\\JB\\anaconda3\\Lib\\site-packages\\sklearn\\neural_network\\_multilayer_perceptron.py:691: ConvergenceWarning: Stochastic Optimizer: Maximum iterations (200) reached and the optimization hasn't converged yet.\n",
      "  warnings.warn(\n"
     ]
    },
    {
     "ename": "NameError",
     "evalue": "name 'XGBClassifier' is not defined",
     "output_type": "error",
     "traceback": [
      "\u001b[1;31m---------------------------------------------------------------------------\u001b[0m",
      "\u001b[1;31mNameError\u001b[0m                                 Traceback (most recent call last)",
      "Cell \u001b[1;32mIn[8], line 49\u001b[0m\n\u001b[0;32m     46\u001b[0m train_and_evaluate_model(rbf_kernel_svm, X_train_scaled, y_train, X_test_scaled, y_test)\n\u001b[0;32m     48\u001b[0m \u001b[38;5;66;03m# XGBoost\u001b[39;00m\n\u001b[1;32m---> 49\u001b[0m xgboost_classifier \u001b[38;5;241m=\u001b[39m XGBClassifier()\n\u001b[0;32m     50\u001b[0m train_and_evaluate_model(xgboost_classifier, X_train, y_train, X_test, y_test)\n\u001b[0;32m     52\u001b[0m \u001b[38;5;28;01mdef\u001b[39;00m \u001b[38;5;21mmodel\u001b[39m(classifier):\n",
      "\u001b[1;31mNameError\u001b[0m: name 'XGBClassifier' is not defined"
     ]
    }
   ],
   "source": [
    "# Model training and evaluation\n",
    "def train_and_evaluate_model(model, X_train, y_train, X_test, y_test):\n",
    "    model.fit(X_train, y_train)\n",
    "    y_pred = model.predict(X_test)\n",
    "    accuracy = accuracy_score(y_test, y_pred)\n",
    "    precision = precision_score(y_test, y_pred)\n",
    "    recall = recall_score(y_test, y_pred)\n",
    "    f1 = f1_score(y_test, y_pred)\n",
    "\n",
    "    print(f\"Accuracy: {accuracy:.4f}, Precision: {precision:.4f}, Recall: {recall:.4f}, F1 Score: {f1:.4f}\")\n",
    "\n",
    "# Logistic Regression\n",
    "logistic_regression = LogisticRegression()\n",
    "train_and_evaluate_model(logistic_regression, X_train_scaled, y_train, X_test_scaled, y_test)\n",
    "\n",
    "# Random Forest\n",
    "random_forest = RandomForestClassifier()\n",
    "train_and_evaluate_model(random_forest, X_train, y_train, X_test, y_test)\n",
    "\n",
    "# Gradient Boosting\n",
    "gradient_boosting = GradientBoostingClassifier()\n",
    "train_and_evaluate_model(gradient_boosting, X_train, y_train, X_test, y_test)\n",
    "\n",
    "# Support Vector Machine (SVM)\n",
    "svm_classifier = SVC()\n",
    "train_and_evaluate_model(svm_classifier, X_train_scaled, y_train, X_test_scaled, y_test)\n",
    "\n",
    "# Decision Tree\n",
    "decision_tree = DecisionTreeClassifier()\n",
    "train_and_evaluate_model(decision_tree, X_train, y_train, X_test, y_test)\n",
    "\n",
    "# K-Nearest Neighbors (KNN)\n",
    "knn_classifier = KNeighborsClassifier()\n",
    "train_and_evaluate_model(knn_classifier, X_train_scaled, y_train, X_test_scaled, y_test)\n",
    "\n",
    "# Naive Bayes\n",
    "naive_bayes = GaussianNB()\n",
    "train_and_evaluate_model(naive_bayes, X_train, y_train, X_test, y_test)\n",
    "\n",
    "# Multilayer Perceptron (Neural Network)\n",
    "mlp_classifier = MLPClassifier()\n",
    "train_and_evaluate_model(mlp_classifier, X_train_scaled, y_train, X_test_scaled, y_test)\n",
    "\n",
    "# Radial Basis Function (RBF) Kernel SVM\n",
    "rbf_kernel_svm = SVC(kernel='rbf')\n",
    "train_and_evaluate_model(rbf_kernel_svm, X_train_scaled, y_train, X_test_scaled, y_test)\n",
    "\n",
    "# XGBoost\n",
    "xgboost_classifier = XGBClassifier()\n",
    "train_and_evaluate_model(xgboost_classifier, X_train, y_train, X_test, y_test)\n",
    "\n",
    "def model(classifier):\n",
    "    \n",
    "    classifier.fit(x_train,y_train)\n",
    "    prediction = classifier.predict(x_test)\n",
    "    cv = RepeatedStratifiedKFold(n_splits = 10,n_repeats = 3,random_state = 1)\n",
    "    print(\"Accuracy : \",'{0:.2%}'.format(accuracy_score(y_test,prediction)))\n",
    "    print(\"Cross Validation Score : \",'{0:.2%}'.format(cross_val_score(classifier,x_train,y_train,cv = cv,scoring = 'roc_auc').mean()))\n",
    "\n",
    "def model_evaluation(classifier):\n",
    "    \n",
    "    # Confusion Matrix\n",
    "    cm = confusion_matrix(y_test,classifier.predict(x_test))\n",
    "    names = ['True Neg','False Pos','False Neg','True Pos']\n",
    "    counts = [value for value in cm.flatten()]\n",
    "    percentages = ['{0:.2%}'.format(value) for value in cm.flatten()/np.sum(cm)]\n",
    "    labels = [f'{v1}\\n{v2}\\n{v3}' for v1, v2, v3 in zip(names,counts,percentages)]\n",
    "    labels = np.asarray(labels).reshape(2,2)\n",
    "    sns.heatmap(cm,annot = labels,cmap = colors,fmt ='')\n",
    "    \n",
    "    # Classification Report\n",
    "    print(classification_report(y_test,classifier.predict(x_test)))\n",
    "    print(f\"Accuracy: {accuracy:.2f}\")\n",
    "    model_evaluation(classifier_nb)"
   ]
  }
 ],
 "metadata": {
  "kernelspec": {
   "display_name": "Python 3 (ipykernel)",
   "language": "python",
   "name": "python3"
  },
  "language_info": {
   "codemirror_mode": {
    "name": "ipython",
    "version": 3
   },
   "file_extension": ".py",
   "mimetype": "text/x-python",
   "name": "python",
   "nbconvert_exporter": "python",
   "pygments_lexer": "ipython3",
   "version": "3.11.5"
  }
 },
 "nbformat": 4,
 "nbformat_minor": 5
}
